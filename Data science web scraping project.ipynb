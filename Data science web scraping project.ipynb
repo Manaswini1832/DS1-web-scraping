{
 "cells": [
  {
   "cell_type": "markdown",
   "metadata": {},
   "source": [
    "#### Importing the necessary libraries"
   ]
  },
  {
   "cell_type": "code",
   "execution_count": 5,
   "metadata": {},
   "outputs": [],
   "source": [
    "from bs4 import BeautifulSoup as bs\n",
    "import requests as requests"
   ]
  },
  {
   "cell_type": "markdown",
   "metadata": {},
   "source": [
    "#### Testing out how to get the info box for just one movie"
   ]
  },
  {
   "cell_type": "code",
   "execution_count": 85,
   "metadata": {},
   "outputs": [],
   "source": [
    "r = requests.get(\"https://en.wikipedia.org/wiki/The_Nightmare_Before_Christmas\")\n",
    "\n",
    "# Convert to a beautiful soup object\n",
    "soup = bs(r.content)\n",
    "\n",
    "\n",
    "def clean_references(soup) :\n",
    "    for tag in soup.find_all([\"sup\", \"span\"]) :\n",
    "        tag.decompose()"
   ]
  },
  {
   "cell_type": "code",
   "execution_count": 86,
   "metadata": {},
   "outputs": [],
   "source": [
    "info_box = soup.find(class_ = \"infobox vevent\")\n",
    "info_rows = info_box.find_all(\"tr\")\n",
    "clean_references(soup)"
   ]
  },
  {
   "cell_type": "code",
   "execution_count": null,
   "metadata": {},
   "outputs": [],
   "source": [
    "def replace(string, beforeStr, afterStr) :\n",
    "    return string.replace(beforeStr, afterStr)\n",
    "\n",
    "def get_content_value(row_data) :\n",
    "    if row_data.find(\"li\") :\n",
    "        result = []\n",
    "        ## Handle separately\n",
    "        for li in row_data.find_all(\"li\") :\n",
    "            clean_content_value = replace(li.get_text(\" \", strip=True), \"\\xa0\", \" \")\n",
    "            for i in range(2):    \n",
    "                stringToBeReplaced = '[' + str(i+1) + ']'\n",
    "                clean_content_value = clean_content_value.replace(stringToBeReplaced, \"\")\n",
    "            result.append(clean_content_value)\n",
    "    elif (row_data.find(\"br\")) :\n",
    "        result = [text for text in row_data.stripped_strings]\n",
    "    else :\n",
    "        ## Add td.get_text() directly to movie_info\n",
    "        result = replace(row_data.get_text(\" \", strip=True), \"\\xa0\", \" \")\n",
    "        for i in range(6):    \n",
    "            stringToBeReplaced = '[' + str(i+1) + ']'\n",
    "            result = result.replace(stringToBeReplaced, \"\")\n",
    "        \n",
    "    return result\n",
    "\n",
    "    \n",
    "movie_info = {}\n",
    "for index, row in enumerate(info_rows) :\n",
    "    if(index == 0) :\n",
    "        movie_info['title'] = row.find(\"th\").get_text(\" \", strip=True)\n",
    "    else :\n",
    "        header = row.find(\"th\")\n",
    "        if header :\n",
    "            content_key = row.find(\"th\").get_text(\" \", strip=True)\n",
    "            content_value = get_content_value(row.find(\"td\"))\n",
    "            movie_info[content_key] = content_value\n",
    "\n",
    "    \n",
    "movie_info"
   ]
  },
  {
   "cell_type": "markdown",
   "metadata": {},
   "source": [
    "### Function to get the info box of a movie given its wikipedia url"
   ]
  },
  {
   "cell_type": "code",
   "execution_count": 92,
   "metadata": {},
   "outputs": [],
   "source": [
    "def replace(string, beforeStr, afterStr) :\n",
    "        return string.replace(beforeStr, afterStr)\n",
    "\n",
    "def get_content_value(row_data) :\n",
    "    if row_data.find(\"li\") :\n",
    "        result = []\n",
    "        ## Handle separately\n",
    "        for li in row_data.find_all(\"li\") :\n",
    "            clean_content_value = replace(li.get_text(\" \", strip=True), \"\\xa0\", \" \")\n",
    "            for i in range(2):    \n",
    "                stringToBeReplaced = '[' + str(i+1) + ']'\n",
    "                clean_content_value = clean_content_value.replace(stringToBeReplaced, \"\")\n",
    "            result.append(clean_content_value)\n",
    "    elif (row_data.find(\"br\")) :\n",
    "        result = [text for text in row_data.stripped_strings]\n",
    "    else :\n",
    "        ## Add td.get_text() directly to movie_info\n",
    "        result = replace(row_data.get_text(\" \", strip=True), \"\\xa0\", \" \")\n",
    "        for i in range(6):    \n",
    "            stringToBeReplaced = '[' + str(i+1) + ']'\n",
    "            result = result.replace(stringToBeReplaced, \"\")\n",
    "        \n",
    "    return result\n",
    "\n",
    "def clean_references(soup) :\n",
    "    for tag in soup.find_all([\"sup\", \"span\"]) :\n",
    "        tag.decompose()\n",
    "\n",
    "def get_movie_info_box(movie_url) :\n",
    "    r = requests.get(movie_url)\n",
    "\n",
    "    # Convert to a beautiful soup object\n",
    "    soup = bs(r.content)\n",
    "    info_box = soup.find(class_ = \"infobox vevent\")\n",
    "    info_rows = info_box.find_all(\"tr\")\n",
    "    \n",
    "    clean_references(soup)\n",
    "\n",
    "    movie_info = {}\n",
    "    for index, row in enumerate(info_rows) :\n",
    "        if(index == 0) :\n",
    "            movie_info['title'] = row.find(\"th\").get_text(\" \", strip=True)\n",
    "        else :\n",
    "            header = row.find(\"th\")\n",
    "            if header :\n",
    "                content_key = row.find(\"th\").get_text(\" \", strip=True)\n",
    "                content_value = get_content_value(row.find(\"td\"))\n",
    "                movie_info[content_key] = content_value            \n",
    "    return movie_info"
   ]
  },
  {
   "cell_type": "markdown",
   "metadata": {},
   "source": [
    "#### Get movie info boxes using the above function"
   ]
  },
  {
   "cell_type": "code",
   "execution_count": 93,
   "metadata": {},
   "outputs": [],
   "source": [
    "movie_req = requests.get(\"https://en.wikipedia.org/wiki/List_of_Walt_Disney_Pictures_films\")\n",
    "movie_soup = bs(movie_req.content)"
   ]
  },
  {
   "cell_type": "code",
   "execution_count": 94,
   "metadata": {
    "scrolled": true
   },
   "outputs": [
    {
     "name": "stdout",
     "output_type": "stream",
     "text": [
      "0\n",
      "10\n",
      "20\n",
      "30\n",
      "40\n",
      "Zorro the Avenger\n",
      "'NoneType' object has no attribute 'find'\n",
      "The Sign of Zorro\n",
      "'NoneType' object has no attribute 'find'\n",
      "50\n",
      "60\n",
      "70\n",
      "80\n",
      "90\n",
      "100\n",
      "110\n",
      "120\n",
      "True-Life Adventures\n",
      "'NoneType' object has no attribute 'find_all'\n",
      "130\n",
      "140\n",
      "The London Connection\n",
      "'NoneType' object has no attribute 'find'\n",
      "150\n",
      "160\n",
      "170\n",
      "180\n",
      "190\n",
      "200\n",
      "210\n",
      "220\n",
      "230\n",
      "240\n",
      "250\n",
      "260\n",
      "270\n",
      "280\n",
      "290\n",
      "300\n",
      "310\n",
      "320\n",
      "330\n",
      "340\n",
      "350\n",
      "360\n",
      "370\n",
      "380\n",
      "390\n",
      "400\n",
      "410\n",
      "420\n",
      "430\n",
      "440\n",
      "450\n",
      "460\n",
      "470\n",
      "480\n",
      "490\n",
      "Sister Act 3\n",
      "'NoneType' object has no attribute 'find'\n",
      "Tower of Terror\n",
      "'NoneType' object has no attribute 'find_all'\n",
      "Tron: Ares\n",
      "'NoneType' object has no attribute 'find'\n",
      "500\n",
      "61\n",
      "'NoneType' object has no attribute 'find_all'\n"
     ]
    }
   ],
   "source": [
    "movies = movie_soup.select(\".wikitable.sortable i a\")\n",
    "base_path = \"https://en.wikipedia.org/\"\n",
    "movie_info_list = []\n",
    "\n",
    "for index, movie in enumerate(movies):\n",
    "    if(index % 10 == 0) :\n",
    "        print(index)\n",
    "    try : \n",
    "        relative_path = movie['href']\n",
    "        full_path = base_path + relative_path\n",
    "        title = movie['title']\n",
    "        movie_info_list.append(get_movie_info_box(full_path))\n",
    "        \n",
    "    except Exception as e :\n",
    "        print(movie.get_text())\n",
    "        print(e)"
   ]
  },
  {
   "cell_type": "code",
   "execution_count": 95,
   "metadata": {},
   "outputs": [
    {
     "data": {
      "text/plain": [
       "502"
      ]
     },
     "execution_count": 95,
     "metadata": {},
     "output_type": "execute_result"
    }
   ],
   "source": [
    "len(movie_info_list)"
   ]
  },
  {
   "cell_type": "markdown",
   "metadata": {},
   "source": [
    "#### Save / Reload movie data"
   ]
  },
  {
   "cell_type": "code",
   "execution_count": 96,
   "metadata": {},
   "outputs": [],
   "source": [
    "import json\n",
    "\n",
    "def save_data(title, data) :\n",
    "    with open(title, 'w', encoding='utf-8') as f:\n",
    "        json.dump(data, f, ensure_ascii=False, indent=2)"
   ]
  },
  {
   "cell_type": "code",
   "execution_count": 97,
   "metadata": {},
   "outputs": [],
   "source": [
    "import json\n",
    "\n",
    "def load_data(title) :\n",
    "    with open(title, encoding='utf-8') as f:\n",
    "        return json.load(f)"
   ]
  },
  {
   "cell_type": "code",
   "execution_count": 98,
   "metadata": {},
   "outputs": [],
   "source": [
    "save_data(\"disney_movies_cleaned1.json\", movie_info_list)"
   ]
  },
  {
   "cell_type": "markdown",
   "metadata": {},
   "source": [
    "#### Clean our data"
   ]
  },
  {
   "cell_type": "code",
   "execution_count": 99,
   "metadata": {},
   "outputs": [],
   "source": [
    "movie_info_list = load_data(\"disney_movies_cleaned1.json\")"
   ]
  },
  {
   "cell_type": "markdown",
   "metadata": {},
   "source": [
    "#### Subtasks\n",
    "- Clean up references like [1]\n",
    "- Convert movie running time to an integer\n",
    "- Convert dates into a dateTime object\n",
    "- Split up long strings\n",
    "- Convert budget and box office entries to numbers"
   ]
  },
  {
   "cell_type": "code",
   "execution_count": null,
   "metadata": {},
   "outputs": [],
   "source": [
    "# Clean up references like [1], [2] etc....\n",
    "# Done above"
   ]
  },
  {
   "cell_type": "code",
   "execution_count": null,
   "metadata": {},
   "outputs": [],
   "source": [
    "# Split up the long strings\n",
    "# i.e. in some places instead of a list of names, we're getting a long string of space-separated names. Need to fix that\n",
    "# Done"
   ]
  },
  {
   "cell_type": "code",
   "execution_count": null,
   "metadata": {},
   "outputs": [],
   "source": [
    "# Continue from Task3.4 part"
   ]
  },
  {
   "cell_type": "code",
   "execution_count": null,
   "metadata": {},
   "outputs": [],
   "source": []
  },
  {
   "cell_type": "code",
   "execution_count": null,
   "metadata": {},
   "outputs": [],
   "source": []
  },
  {
   "cell_type": "code",
   "execution_count": null,
   "metadata": {},
   "outputs": [],
   "source": []
  },
  {
   "cell_type": "code",
   "execution_count": null,
   "metadata": {},
   "outputs": [],
   "source": []
  },
  {
   "cell_type": "code",
   "execution_count": null,
   "metadata": {},
   "outputs": [],
   "source": []
  },
  {
   "cell_type": "code",
   "execution_count": null,
   "metadata": {},
   "outputs": [],
   "source": []
  },
  {
   "cell_type": "code",
   "execution_count": null,
   "metadata": {},
   "outputs": [],
   "source": []
  },
  {
   "cell_type": "code",
   "execution_count": null,
   "metadata": {},
   "outputs": [],
   "source": []
  },
  {
   "cell_type": "code",
   "execution_count": null,
   "metadata": {},
   "outputs": [],
   "source": []
  }
 ],
 "metadata": {
  "kernelspec": {
   "display_name": "Python 3",
   "language": "python",
   "name": "python3"
  },
  "language_info": {
   "codemirror_mode": {
    "name": "ipython",
    "version": 3
   },
   "file_extension": ".py",
   "mimetype": "text/x-python",
   "name": "python",
   "nbconvert_exporter": "python",
   "pygments_lexer": "ipython3",
   "version": "3.8.5"
  }
 },
 "nbformat": 4,
 "nbformat_minor": 4
}

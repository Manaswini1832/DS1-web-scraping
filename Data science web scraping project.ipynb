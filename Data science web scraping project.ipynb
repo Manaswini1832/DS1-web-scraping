{
 "cells": [
  {
   "cell_type": "markdown",
   "metadata": {},
   "source": [
    "#### Importing the necessary libraries"
   ]
  },
  {
   "cell_type": "code",
   "execution_count": 3,
   "metadata": {},
   "outputs": [],
   "source": [
    "from bs4 import BeautifulSoup as bs\n",
    "import requests as requests"
   ]
  },
  {
   "cell_type": "markdown",
   "metadata": {},
   "source": [
    "#### Testing out how to get the info box for just one movie"
   ]
  },
  {
   "cell_type": "code",
   "execution_count": null,
   "metadata": {},
   "outputs": [],
   "source": [
    "r = requests.get(\"https://en.wikipedia.org/wiki/Toy_Story_3\")\n",
    "\n",
    "# Convert to a beautiful soup object\n",
    "soup = bs(r.content)"
   ]
  },
  {
   "cell_type": "code",
   "execution_count": null,
   "metadata": {},
   "outputs": [],
   "source": [
    "info_box = soup.find(class_ = \"infobox vevent\")\n",
    "info_rows = info_box.find_all(\"tr\")"
   ]
  },
  {
   "cell_type": "code",
   "execution_count": null,
   "metadata": {},
   "outputs": [],
   "source": [
    "def replace(string, beforeStr, afterStr) :\n",
    "    return string.replace(beforeStr, afterStr)\n",
    "\n",
    "def get_content_value(row_data) :\n",
    "    if row_data.find(\"li\") :\n",
    "        result = []\n",
    "        ## Handle separately\n",
    "        for li in row_data.find_all(\"li\") :\n",
    "            clean_content_value = replace(li.get_text(\" \", strip=True), \"\\xa0\", \" \")\n",
    "            result.append(clean_content_value)\n",
    "        return result\n",
    "    else :\n",
    "        ## Add td.get_text() directly to movie_info\n",
    "        return replace(row_data.get_text(\" \", strip=True), \"\\xa0\", \" \")\n",
    "\n",
    "    \n",
    "movie_info = {}\n",
    "for index, row in enumerate(info_rows) :\n",
    "    if(index == 0) :\n",
    "        movie_info['title'] = row.find(\"th\").get_text(\" \", strip=True)\n",
    "    elif index == 1 :\n",
    "        continue\n",
    "    else :\n",
    "        content_key = row.find(\"th\").get_text(\" \", strip=True)\n",
    "        content_value = get_content_value(row.find(\"td\"))\n",
    "        movie_info[content_key] = content_value\n",
    "\n",
    "    \n",
    "movie_info"
   ]
  },
  {
   "cell_type": "markdown",
   "metadata": {},
   "source": [
    "### Function to get the info box of a movie given its wikipedia url"
   ]
  },
  {
   "cell_type": "code",
   "execution_count": 76,
   "metadata": {},
   "outputs": [],
   "source": [
    "def replace(string, beforeStr, afterStr) :\n",
    "        return string.replace(beforeStr, afterStr)\n",
    "\n",
    "def get_content_value(row_data) :\n",
    "    if row_data.find(\"li\") :\n",
    "        result = []\n",
    "        ## Handle separately\n",
    "        for li in row_data.find_all(\"li\") :\n",
    "            clean_content_value = replace(li.get_text(\" \", strip=True), \"\\xa0\", \" \")\n",
    "            result.append(clean_content_value)\n",
    "        return result\n",
    "    else :\n",
    "        ## Add td.get_text() directly to movie_info\n",
    "        return replace(row_data.get_text(\" \", strip=True), \"\\xa0\", \" \")\n",
    "\n",
    "def get_movie_info_box(movie_url) :\n",
    "    r = requests.get(movie_url)\n",
    "\n",
    "    # Convert to a beautiful soup object\n",
    "    soup = bs(r.content)\n",
    "    info_box = soup.find(class_ = \"infobox vevent\")\n",
    "    info_rows = info_box.find_all(\"tr\")\n",
    "\n",
    "    movie_info = {}\n",
    "    for index, row in enumerate(info_rows) :\n",
    "        if(index == 0) :\n",
    "            movie_info['title'] = row.find(\"th\").get_text(\" \", strip=True)\n",
    "        elif index == 1 :\n",
    "            continue\n",
    "        else :\n",
    "            content_key = row.find(\"th\").get_text(\" \", strip=True)\n",
    "            content_value = get_content_value(row.find(\"td\"))\n",
    "            movie_info[content_key] = content_value\n",
    "            \n",
    "    return movie_info"
   ]
  },
  {
   "cell_type": "markdown",
   "metadata": {},
   "source": [
    "#### Get movie info boxes using the above function"
   ]
  },
  {
   "cell_type": "code",
   "execution_count": null,
   "metadata": {},
   "outputs": [],
   "source": [
    "movie_req = requests.get(\"https://en.wikipedia.org/wiki/List_of_Walt_Disney_Pictures_films\")\n",
    "movie_soup = bs(movie_req.content)"
   ]
  },
  {
   "cell_type": "code",
   "execution_count": 101,
   "metadata": {},
   "outputs": [
    {
     "name": "stdout",
     "output_type": "stream",
     "text": [
      "Zorro the Avenger\n",
      "'NoneType' object has no attribute 'find'\n",
      "The Sign of Zorro\n",
      "'NoneType' object has no attribute 'find'\n"
     ]
    }
   ],
   "source": [
    "movies = movie_soup.select(\".wikitable.sortable i a\")\n",
    "base_path = \"https://en.wikipedia.org/\"\n",
    "movie_info_list = []\n",
    "\n",
    "for index, movie in enumerate(movies):\n",
    "    # Taking only the first 100 movies\n",
    "    if(index == 100) :\n",
    "        break\n",
    "    try : \n",
    "        relative_path = movie['href']\n",
    "        full_path = base_path + relative_path\n",
    "        title = movie['title']\n",
    "        movie_info_list.append(get_movie_info_box(full_path))\n",
    "        \n",
    "    except Exception as e :\n",
    "        print(movie.get_text())\n",
    "        print(e)"
   ]
  },
  {
   "cell_type": "code",
   "execution_count": 103,
   "metadata": {},
   "outputs": [
    {
     "data": {
      "text/plain": [
       "98"
      ]
     },
     "execution_count": 103,
     "metadata": {},
     "output_type": "execute_result"
    }
   ],
   "source": [
    "len(movie_info_list)"
   ]
  },
  {
   "cell_type": "markdown",
   "metadata": {},
   "source": [
    "#### Save / Reload movie data"
   ]
  },
  {
   "cell_type": "code",
   "execution_count": 104,
   "metadata": {},
   "outputs": [],
   "source": [
    "import json\n",
    "\n",
    "def save_data(title, data) :\n",
    "    with open(title, 'w', encoding='utf-8') as f:\n",
    "        json.dump(data, f, ensure_ascii=False, indent=2)"
   ]
  },
  {
   "cell_type": "code",
   "execution_count": 105,
   "metadata": {},
   "outputs": [],
   "source": [
    "import json\n",
    "\n",
    "def load_data(title) :\n",
    "    with open(title, encoding='utf-8') as f:\n",
    "        return json.load(f)"
   ]
  },
  {
   "cell_type": "code",
   "execution_count": 106,
   "metadata": {},
   "outputs": [],
   "source": [
    "save_data(\"disney_movies.json\", movie_info_list)"
   ]
  }
 ],
 "metadata": {
  "kernelspec": {
   "display_name": "Python 3",
   "language": "python",
   "name": "python3"
  },
  "language_info": {
   "codemirror_mode": {
    "name": "ipython",
    "version": 3
   },
   "file_extension": ".py",
   "mimetype": "text/x-python",
   "name": "python",
   "nbconvert_exporter": "python",
   "pygments_lexer": "ipython3",
   "version": "3.8.5"
  }
 },
 "nbformat": 4,
 "nbformat_minor": 4
}
